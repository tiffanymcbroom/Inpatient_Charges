{
 "cells": [
  {
   "cell_type": "markdown",
   "metadata": {},
   "source": [
    "# inpatient charges"
   ]
  },
  {
   "cell_type": "code",
   "execution_count": 13,
   "metadata": {},
   "outputs": [],
   "source": [
    "import pandas as pd\n",
    "import sqlite3\n",
    "import os"
   ]
  },
  {
   "cell_type": "code",
   "execution_count": 4,
   "metadata": {},
   "outputs": [],
   "source": [
    "Inpatient = pd.read_csv(\"inpatientCharges.csv\")"
   ]
  },
  {
   "cell_type": "code",
   "execution_count": 6,
   "metadata": {},
   "outputs": [
    {
     "data": {
      "text/html": [
       "<div>\n",
       "<style scoped>\n",
       "    .dataframe tbody tr th:only-of-type {\n",
       "        vertical-align: middle;\n",
       "    }\n",
       "\n",
       "    .dataframe tbody tr th {\n",
       "        vertical-align: top;\n",
       "    }\n",
       "\n",
       "    .dataframe thead th {\n",
       "        text-align: right;\n",
       "    }\n",
       "</style>\n",
       "<table border=\"1\" class=\"dataframe\">\n",
       "  <thead>\n",
       "    <tr style=\"text-align: right;\">\n",
       "      <th></th>\n",
       "      <th>DRG Definition</th>\n",
       "      <th>Provider Id</th>\n",
       "      <th>Provider Name</th>\n",
       "      <th>Provider Street Address</th>\n",
       "      <th>Provider City</th>\n",
       "      <th>Provider State</th>\n",
       "      <th>Provider Zip Code</th>\n",
       "      <th>Hospital Referral Region Description</th>\n",
       "      <th>Total Discharges</th>\n",
       "      <th>Average Covered Charges</th>\n",
       "      <th>Average Total Payments</th>\n",
       "      <th>Average Medicare Payments</th>\n",
       "    </tr>\n",
       "  </thead>\n",
       "  <tbody>\n",
       "    <tr>\n",
       "      <th>0</th>\n",
       "      <td>039 - EXTRACRANIAL PROCEDURES W/O CC/MCC</td>\n",
       "      <td>10001</td>\n",
       "      <td>SOUTHEAST ALABAMA MEDICAL CENTER</td>\n",
       "      <td>1108 ROSS CLARK CIRCLE</td>\n",
       "      <td>DOTHAN</td>\n",
       "      <td>AL</td>\n",
       "      <td>36301</td>\n",
       "      <td>AL - Dothan</td>\n",
       "      <td>91</td>\n",
       "      <td>$32963.07</td>\n",
       "      <td>$5777.24</td>\n",
       "      <td>$4763.73</td>\n",
       "    </tr>\n",
       "  </tbody>\n",
       "</table>\n",
       "</div>"
      ],
      "text/plain": [
       "                             DRG Definition  Provider Id  \\\n",
       "0  039 - EXTRACRANIAL PROCEDURES W/O CC/MCC        10001   \n",
       "\n",
       "                      Provider Name Provider Street Address Provider City  \\\n",
       "0  SOUTHEAST ALABAMA MEDICAL CENTER  1108 ROSS CLARK CIRCLE        DOTHAN   \n",
       "\n",
       "  Provider State  Provider Zip Code Hospital Referral Region Description  \\\n",
       "0             AL              36301                          AL - Dothan   \n",
       "\n",
       "    Total Discharges   Average Covered Charges   Average Total Payments   \\\n",
       "0                  91                 $32963.07                 $5777.24   \n",
       "\n",
       "  Average Medicare Payments  \n",
       "0                  $4763.73  "
      ]
     },
     "execution_count": 6,
     "metadata": {},
     "output_type": "execute_result"
    }
   ],
   "source": [
    "Inpatient.head(1)"
   ]
  },
  {
   "cell_type": "code",
   "execution_count": 7,
   "metadata": {},
   "outputs": [
    {
     "data": {
      "text/html": [
       "<div>\n",
       "<style scoped>\n",
       "    .dataframe tbody tr th:only-of-type {\n",
       "        vertical-align: middle;\n",
       "    }\n",
       "\n",
       "    .dataframe tbody tr th {\n",
       "        vertical-align: top;\n",
       "    }\n",
       "\n",
       "    .dataframe thead th {\n",
       "        text-align: right;\n",
       "    }\n",
       "</style>\n",
       "<table border=\"1\" class=\"dataframe\">\n",
       "  <thead>\n",
       "    <tr style=\"text-align: right;\">\n",
       "      <th></th>\n",
       "      <th>DRG Definition</th>\n",
       "      <th>Provider Id</th>\n",
       "      <th>Provider Name</th>\n",
       "      <th>Provider Street Address</th>\n",
       "      <th>Provider City</th>\n",
       "      <th>Provider State</th>\n",
       "      <th>Provider Zip Code</th>\n",
       "      <th>Hospital Referral Region Description</th>\n",
       "      <th>Total Discharges</th>\n",
       "      <th>Average Covered Charges</th>\n",
       "      <th>Average Total Payments</th>\n",
       "      <th>Average Medicare Payments</th>\n",
       "    </tr>\n",
       "  </thead>\n",
       "  <tbody>\n",
       "    <tr>\n",
       "      <th>163064</th>\n",
       "      <td>948 - SIGNS &amp; SYMPTOMS W/O MCC</td>\n",
       "      <td>670068</td>\n",
       "      <td>TEXAS HEALTH PRESBYTERIAN HOSPITAL FLOWER MOUND</td>\n",
       "      <td>4400 LONG PRAIRIE ROAD</td>\n",
       "      <td>FLOWER MOUND</td>\n",
       "      <td>TX</td>\n",
       "      <td>75028</td>\n",
       "      <td>TX - Dallas</td>\n",
       "      <td>12</td>\n",
       "      <td>$15042.00</td>\n",
       "      <td>$3539.75</td>\n",
       "      <td>$2887.41</td>\n",
       "    </tr>\n",
       "  </tbody>\n",
       "</table>\n",
       "</div>"
      ],
      "text/plain": [
       "                        DRG Definition  Provider Id  \\\n",
       "163064  948 - SIGNS & SYMPTOMS W/O MCC       670068   \n",
       "\n",
       "                                          Provider Name  \\\n",
       "163064  TEXAS HEALTH PRESBYTERIAN HOSPITAL FLOWER MOUND   \n",
       "\n",
       "       Provider Street Address Provider City Provider State  \\\n",
       "163064  4400 LONG PRAIRIE ROAD  FLOWER MOUND             TX   \n",
       "\n",
       "        Provider Zip Code Hospital Referral Region Description  \\\n",
       "163064              75028                          TX - Dallas   \n",
       "\n",
       "         Total Discharges   Average Covered Charges   Average Total Payments   \\\n",
       "163064                  12                 $15042.00                 $3539.75   \n",
       "\n",
       "       Average Medicare Payments  \n",
       "163064                  $2887.41  "
      ]
     },
     "execution_count": 7,
     "metadata": {},
     "output_type": "execute_result"
    }
   ],
   "source": [
    "Inpatient.tail(1)"
   ]
  },
  {
   "cell_type": "code",
   "execution_count": 9,
   "metadata": {},
   "outputs": [
    {
     "data": {
      "text/plain": [
       "DRG Definition                          163065\n",
       "Provider Id                             163065\n",
       "Provider Name                           163065\n",
       "Provider Street Address                 163065\n",
       "Provider City                           163065\n",
       "Provider State                          163065\n",
       "Provider Zip Code                       163065\n",
       "Hospital Referral Region Description    163065\n",
       " Total Discharges                       163065\n",
       " Average Covered Charges                163065\n",
       " Average Total Payments                 163065\n",
       "Average Medicare Payments               163065\n",
       "dtype: int64"
      ]
     },
     "execution_count": 9,
     "metadata": {},
     "output_type": "execute_result"
    }
   ],
   "source": [
    "Inpatient.count()"
   ]
  },
  {
   "cell_type": "code",
   "execution_count": 14,
   "metadata": {},
   "outputs": [],
   "source": [
    "if os.path.exists(\"InpatientData.db\"):\n",
    "    os.remove(\"InpatientData.db\")\n",
    "    f = open(\"InpatientData.db\", \"w\")\n",
    "else:\n",
    "    f = open(\"InpatientData.db\", \"w\")"
   ]
  },
  {
   "cell_type": "code",
   "execution_count": 15,
   "metadata": {},
   "outputs": [],
   "source": [
    "conn = sqlite3.connect(\"InpatientData.db\")"
   ]
  },
  {
   "cell_type": "code",
   "execution_count": 16,
   "metadata": {},
   "outputs": [
    {
     "name": "stderr",
     "output_type": "stream",
     "text": [
      "C:\\Users\\Tiffany\\Anaconda3\\lib\\site-packages\\pandas\\core\\generic.py:2130: UserWarning: The spaces in these column names will not be changed. In pandas versions < 0.14, spaces were converted to underscores.\n",
      "  dtype=dtype)\n"
     ]
    }
   ],
   "source": [
    "Inpatient.to_sql(\"InpatientTable\", conn, if_exists=\"replace\")"
   ]
  },
  {
   "cell_type": "code",
   "execution_count": 17,
   "metadata": {},
   "outputs": [],
   "source": [
    "query = \"\"\"select distinct\t\"Provider State\"\n",
    "from InpatientTable;\"\"\""
   ]
  },
  {
   "cell_type": "code",
   "execution_count": 18,
   "metadata": {},
   "outputs": [],
   "source": [
    "sqdf = pd.read_sql_query(query, conn)"
   ]
  },
  {
   "cell_type": "code",
   "execution_count": 19,
   "metadata": {},
   "outputs": [
    {
     "data": {
      "text/html": [
       "<div>\n",
       "<style scoped>\n",
       "    .dataframe tbody tr th:only-of-type {\n",
       "        vertical-align: middle;\n",
       "    }\n",
       "\n",
       "    .dataframe tbody tr th {\n",
       "        vertical-align: top;\n",
       "    }\n",
       "\n",
       "    .dataframe thead th {\n",
       "        text-align: right;\n",
       "    }\n",
       "</style>\n",
       "<table border=\"1\" class=\"dataframe\">\n",
       "  <thead>\n",
       "    <tr style=\"text-align: right;\">\n",
       "      <th></th>\n",
       "      <th>Provider State</th>\n",
       "    </tr>\n",
       "  </thead>\n",
       "  <tbody>\n",
       "    <tr>\n",
       "      <th>0</th>\n",
       "      <td>AL</td>\n",
       "    </tr>\n",
       "    <tr>\n",
       "      <th>1</th>\n",
       "      <td>AK</td>\n",
       "    </tr>\n",
       "    <tr>\n",
       "      <th>2</th>\n",
       "      <td>AZ</td>\n",
       "    </tr>\n",
       "    <tr>\n",
       "      <th>3</th>\n",
       "      <td>AR</td>\n",
       "    </tr>\n",
       "    <tr>\n",
       "      <th>4</th>\n",
       "      <td>CA</td>\n",
       "    </tr>\n",
       "  </tbody>\n",
       "</table>\n",
       "</div>"
      ],
      "text/plain": [
       "  Provider State\n",
       "0             AL\n",
       "1             AK\n",
       "2             AZ\n",
       "3             AR\n",
       "4             CA"
      ]
     },
     "execution_count": 19,
     "metadata": {},
     "output_type": "execute_result"
    }
   ],
   "source": [
    "sqdf.head()"
   ]
  },
  {
   "cell_type": "code",
   "execution_count": 20,
   "metadata": {},
   "outputs": [],
   "source": [
    "conn.close()"
   ]
  },
  {
   "cell_type": "code",
   "execution_count": 21,
   "metadata": {},
   "outputs": [],
   "source": [
    "f.close()"
   ]
  },
  {
   "cell_type": "code",
   "execution_count": null,
   "metadata": {},
   "outputs": [],
   "source": []
  }
 ],
 "metadata": {
  "kernelspec": {
   "display_name": "Python 3",
   "language": "python",
   "name": "python3"
  },
  "language_info": {
   "codemirror_mode": {
    "name": "ipython",
    "version": 3
   },
   "file_extension": ".py",
   "mimetype": "text/x-python",
   "name": "python",
   "nbconvert_exporter": "python",
   "pygments_lexer": "ipython3",
   "version": "3.7.1"
  }
 },
 "nbformat": 4,
 "nbformat_minor": 2
}
